{
  "cells": [
    {
      "cell_type": "code",
      "execution_count": null,
      "metadata": {
        "id": "rgIzW-DSC8Yi"
      },
      "outputs": [],
      "source": [
        "import pandas as pd\n",
        "import numpy as np\n",
        "import matplotlib.pyplot as plt\n",
        "%matplotlib inline\n",
        "from scipy.sparse import csr_matrix, coo_matrix\n",
        "from implicit.nearest_neighbours import ItemItemRecommender, CosineRecommender, TFIDFRecommender, BM25Recommender\n",
        "from implicit.evaluation import train_test_split\n",
        "from implicit.evaluation import precision_at_k, mean_average_precision_at_k, AUC_at_k, ndcg_at_k"
      ]
    },
    {
      "cell_type": "code",
      "execution_count": null,
      "metadata": {
        "id": "9qFkcgyrC8Yt",
        "outputId": "24a33bf1-942a-4b18-c54a-a7500c8f8712"
      },
      "outputs": [
        {
          "data": {
            "text/html": [
              "<div>\n",
              "<style scoped>\n",
              "    .dataframe tbody tr th:only-of-type {\n",
              "        vertical-align: middle;\n",
              "    }\n",
              "\n",
              "    .dataframe tbody tr th {\n",
              "        vertical-align: top;\n",
              "    }\n",
              "\n",
              "    .dataframe thead th {\n",
              "        text-align: right;\n",
              "    }\n",
              "</style>\n",
              "<table border=\"1\" class=\"dataframe\">\n",
              "  <thead>\n",
              "    <tr style=\"text-align: right;\">\n",
              "      <th></th>\n",
              "      <th>user_id</th>\n",
              "      <th>basket_id</th>\n",
              "      <th>day</th>\n",
              "      <th>item_id</th>\n",
              "      <th>quantity</th>\n",
              "      <th>sales_value</th>\n",
              "      <th>store_id</th>\n",
              "      <th>retail_disc</th>\n",
              "      <th>trans_time</th>\n",
              "      <th>week_no</th>\n",
              "      <th>coupon_disc</th>\n",
              "      <th>coupon_match_disc</th>\n",
              "    </tr>\n",
              "  </thead>\n",
              "  <tbody>\n",
              "    <tr>\n",
              "      <th>0</th>\n",
              "      <td>2375</td>\n",
              "      <td>26984851472</td>\n",
              "      <td>1</td>\n",
              "      <td>1004906</td>\n",
              "      <td>1</td>\n",
              "      <td>1.39</td>\n",
              "      <td>364</td>\n",
              "      <td>-0.60</td>\n",
              "      <td>1631</td>\n",
              "      <td>1</td>\n",
              "      <td>0.0</td>\n",
              "      <td>0.0</td>\n",
              "    </tr>\n",
              "    <tr>\n",
              "      <th>1</th>\n",
              "      <td>2375</td>\n",
              "      <td>26984851472</td>\n",
              "      <td>1</td>\n",
              "      <td>1033142</td>\n",
              "      <td>1</td>\n",
              "      <td>0.82</td>\n",
              "      <td>364</td>\n",
              "      <td>0.00</td>\n",
              "      <td>1631</td>\n",
              "      <td>1</td>\n",
              "      <td>0.0</td>\n",
              "      <td>0.0</td>\n",
              "    </tr>\n",
              "    <tr>\n",
              "      <th>2</th>\n",
              "      <td>2375</td>\n",
              "      <td>26984851472</td>\n",
              "      <td>1</td>\n",
              "      <td>1036325</td>\n",
              "      <td>1</td>\n",
              "      <td>0.99</td>\n",
              "      <td>364</td>\n",
              "      <td>-0.30</td>\n",
              "      <td>1631</td>\n",
              "      <td>1</td>\n",
              "      <td>0.0</td>\n",
              "      <td>0.0</td>\n",
              "    </tr>\n",
              "    <tr>\n",
              "      <th>3</th>\n",
              "      <td>2375</td>\n",
              "      <td>26984851472</td>\n",
              "      <td>1</td>\n",
              "      <td>1082185</td>\n",
              "      <td>1</td>\n",
              "      <td>1.21</td>\n",
              "      <td>364</td>\n",
              "      <td>0.00</td>\n",
              "      <td>1631</td>\n",
              "      <td>1</td>\n",
              "      <td>0.0</td>\n",
              "      <td>0.0</td>\n",
              "    </tr>\n",
              "    <tr>\n",
              "      <th>4</th>\n",
              "      <td>2375</td>\n",
              "      <td>26984851472</td>\n",
              "      <td>1</td>\n",
              "      <td>8160430</td>\n",
              "      <td>1</td>\n",
              "      <td>1.50</td>\n",
              "      <td>364</td>\n",
              "      <td>-0.39</td>\n",
              "      <td>1631</td>\n",
              "      <td>1</td>\n",
              "      <td>0.0</td>\n",
              "      <td>0.0</td>\n",
              "    </tr>\n",
              "  </tbody>\n",
              "</table>\n",
              "</div>"
            ],
            "text/plain": [
              "   user_id    basket_id  day  item_id  quantity  sales_value  store_id  \\\n",
              "0     2375  26984851472    1  1004906         1         1.39       364   \n",
              "1     2375  26984851472    1  1033142         1         0.82       364   \n",
              "2     2375  26984851472    1  1036325         1         0.99       364   \n",
              "3     2375  26984851472    1  1082185         1         1.21       364   \n",
              "4     2375  26984851472    1  8160430         1         1.50       364   \n",
              "\n",
              "   retail_disc  trans_time  week_no  coupon_disc  coupon_match_disc  \n",
              "0        -0.60        1631        1          0.0                0.0  \n",
              "1         0.00        1631        1          0.0                0.0  \n",
              "2        -0.30        1631        1          0.0                0.0  \n",
              "3         0.00        1631        1          0.0                0.0  \n",
              "4        -0.39        1631        1          0.0                0.0  "
            ]
          },
          "execution_count": 66,
          "metadata": {},
          "output_type": "execute_result"
        }
      ],
      "source": [
        "data = pd.read_csv('retail_train.csv')\n",
        "data.head()"
      ]
    },
    {
      "cell_type": "code",
      "execution_count": null,
      "metadata": {
        "id": "epcBZlgJC8Y0"
      },
      "outputs": [],
      "source": [
        "test_size_weeks = 3\n",
        "\n",
        "data_train = data[data['week_no'] < data['week_no'].max() - test_size_weeks]\n",
        "data_test = data[data['week_no'] >= data['week_no'].max() - test_size_weeks]"
      ]
    },
    {
      "cell_type": "code",
      "execution_count": null,
      "metadata": {
        "id": "DVA2KE3bLa-p",
        "outputId": "4546e8db-092e-4415-afb4-ee5228e30231"
      },
      "outputs": [
        {
          "data": {
            "text/html": [
              "<div>\n",
              "<style scoped>\n",
              "    .dataframe tbody tr th:only-of-type {\n",
              "        vertical-align: middle;\n",
              "    }\n",
              "\n",
              "    .dataframe tbody tr th {\n",
              "        vertical-align: top;\n",
              "    }\n",
              "\n",
              "    .dataframe thead th {\n",
              "        text-align: right;\n",
              "    }\n",
              "</style>\n",
              "<table border=\"1\" class=\"dataframe\">\n",
              "  <thead>\n",
              "    <tr style=\"text-align: right;\">\n",
              "      <th></th>\n",
              "      <th>user_id</th>\n",
              "      <th>actual</th>\n",
              "    </tr>\n",
              "  </thead>\n",
              "  <tbody>\n",
              "    <tr>\n",
              "      <th>0</th>\n",
              "      <td>1</td>\n",
              "      <td>[821867, 834484, 856942, 865456, 889248, 90795...</td>\n",
              "    </tr>\n",
              "    <tr>\n",
              "      <th>1</th>\n",
              "      <td>3</td>\n",
              "      <td>[835476, 851057, 872021, 878302, 879948, 90963...</td>\n",
              "    </tr>\n",
              "    <tr>\n",
              "      <th>2</th>\n",
              "      <td>6</td>\n",
              "      <td>[920308, 926804, 946489, 1006718, 1017061, 107...</td>\n",
              "    </tr>\n",
              "    <tr>\n",
              "      <th>3</th>\n",
              "      <td>7</td>\n",
              "      <td>[840386, 889774, 898068, 909714, 929067, 95347...</td>\n",
              "    </tr>\n",
              "    <tr>\n",
              "      <th>4</th>\n",
              "      <td>8</td>\n",
              "      <td>[835098, 872137, 910439, 924610, 992977, 10412...</td>\n",
              "    </tr>\n",
              "  </tbody>\n",
              "</table>\n",
              "</div>"
            ],
            "text/plain": [
              "   user_id                                             actual\n",
              "0        1  [821867, 834484, 856942, 865456, 889248, 90795...\n",
              "1        3  [835476, 851057, 872021, 878302, 879948, 90963...\n",
              "2        6  [920308, 926804, 946489, 1006718, 1017061, 107...\n",
              "3        7  [840386, 889774, 898068, 909714, 929067, 95347...\n",
              "4        8  [835098, 872137, 910439, 924610, 992977, 10412..."
            ]
          },
          "execution_count": 68,
          "metadata": {},
          "output_type": "execute_result"
        }
      ],
      "source": [
        "result = data_test.groupby('user_id')['item_id'].unique().reset_index()\n",
        "result.columns=['user_id', 'actual']\n",
        "result.head()"
      ]
    },
    {
      "cell_type": "markdown",
      "metadata": {
        "id": "zlUUzLFeC8Y4"
      },
      "source": [
        "### Задание 1. Weighted Random Recommendation\n",
        "\n",
        "Напишите код для случайных рекоммендаций, в которых вероятность рекомендовать товар прямо пропорциональна логарифму продаж\n",
        "- Можно сэмплировать товары случайно, но пропорционально какому-либо весу\n",
        "- Например, прямопропорционально популярности. Вес = log(sales_sum товара)"
      ]
    },
    {
      "cell_type": "code",
      "execution_count": null,
      "metadata": {
        "id": "l4tRduQeLa-t"
      },
      "outputs": [],
      "source": [
        "items_weights = data_train.groupby('item_id')['sales_value'].sum().reset_index()"
      ]
    },
    {
      "cell_type": "code",
      "execution_count": null,
      "metadata": {
        "id": "l2cpeW6YLa-v",
        "outputId": "859e78ca-6c38-4e8a-8c91-459b5fa88a99"
      },
      "outputs": [
        {
          "data": {
            "text/html": [
              "<div>\n",
              "<style scoped>\n",
              "    .dataframe tbody tr th:only-of-type {\n",
              "        vertical-align: middle;\n",
              "    }\n",
              "\n",
              "    .dataframe tbody tr th {\n",
              "        vertical-align: top;\n",
              "    }\n",
              "\n",
              "    .dataframe thead th {\n",
              "        text-align: right;\n",
              "    }\n",
              "</style>\n",
              "<table border=\"1\" class=\"dataframe\">\n",
              "  <thead>\n",
              "    <tr style=\"text-align: right;\">\n",
              "      <th></th>\n",
              "      <th>item_id</th>\n",
              "      <th>sales_value</th>\n",
              "    </tr>\n",
              "  </thead>\n",
              "  <tbody>\n",
              "    <tr>\n",
              "      <th>0</th>\n",
              "      <td>25671</td>\n",
              "      <td>20.94</td>\n",
              "    </tr>\n",
              "    <tr>\n",
              "      <th>1</th>\n",
              "      <td>26081</td>\n",
              "      <td>0.99</td>\n",
              "    </tr>\n",
              "    <tr>\n",
              "      <th>2</th>\n",
              "      <td>26093</td>\n",
              "      <td>1.59</td>\n",
              "    </tr>\n",
              "    <tr>\n",
              "      <th>3</th>\n",
              "      <td>26190</td>\n",
              "      <td>1.54</td>\n",
              "    </tr>\n",
              "    <tr>\n",
              "      <th>4</th>\n",
              "      <td>26355</td>\n",
              "      <td>1.98</td>\n",
              "    </tr>\n",
              "  </tbody>\n",
              "</table>\n",
              "</div>"
            ],
            "text/plain": [
              "   item_id  sales_value\n",
              "0    25671        20.94\n",
              "1    26081         0.99\n",
              "2    26093         1.59\n",
              "3    26190         1.54\n",
              "4    26355         1.98"
            ]
          },
          "execution_count": 70,
          "metadata": {},
          "output_type": "execute_result"
        }
      ],
      "source": [
        "items_weights.head()"
      ]
    },
    {
      "cell_type": "code",
      "execution_count": null,
      "metadata": {
        "id": "CnyQB3CULa-x"
      },
      "outputs": [],
      "source": [
        "import random"
      ]
    },
    {
      "cell_type": "code",
      "execution_count": null,
      "metadata": {
        "id": "brMuCHolC8Y4"
      },
      "outputs": [],
      "source": [
        "def weighted_random_recommendation(items_weights, n=5):\n",
        "    items_weights = items_weights.sort_values(by='sales_value', ascending=False)\n",
        "    items_weights['weight']=np.log10(items_weights['sales_value']+1)/100\n",
        "    recs = random.choices(items_weights['item_id'], weights=items_weights['weight'], k=n)\n",
        "    return recs"
      ]
    },
    {
      "cell_type": "code",
      "execution_count": null,
      "metadata": {
        "id": "nK_AS3tmC8Y7",
        "outputId": "e8a1f617-bd70-4d8e-a571-3b129caf9fec"
      },
      "outputs": [
        {
          "name": "stdout",
          "output_type": "stream",
          "text": [
            "Wall time: 1min 27s\n"
          ]
        },
        {
          "data": {
            "text/html": [
              "<div>\n",
              "<style scoped>\n",
              "    .dataframe tbody tr th:only-of-type {\n",
              "        vertical-align: middle;\n",
              "    }\n",
              "\n",
              "    .dataframe tbody tr th {\n",
              "        vertical-align: top;\n",
              "    }\n",
              "\n",
              "    .dataframe thead th {\n",
              "        text-align: right;\n",
              "    }\n",
              "</style>\n",
              "<table border=\"1\" class=\"dataframe\">\n",
              "  <thead>\n",
              "    <tr style=\"text-align: right;\">\n",
              "      <th></th>\n",
              "      <th>user_id</th>\n",
              "      <th>actual</th>\n",
              "      <th>weighted_random_recommendation</th>\n",
              "    </tr>\n",
              "  </thead>\n",
              "  <tbody>\n",
              "    <tr>\n",
              "      <th>0</th>\n",
              "      <td>1</td>\n",
              "      <td>[821867, 834484, 856942, 865456, 889248, 90795...</td>\n",
              "      <td>[13512363, 15717045, 1125492, 679901, 939491]</td>\n",
              "    </tr>\n",
              "    <tr>\n",
              "      <th>1</th>\n",
              "      <td>3</td>\n",
              "      <td>[835476, 851057, 872021, 878302, 879948, 90963...</td>\n",
              "      <td>[870909, 931940, 901806, 869728, 849166]</td>\n",
              "    </tr>\n",
              "    <tr>\n",
              "      <th>2</th>\n",
              "      <td>6</td>\n",
              "      <td>[920308, 926804, 946489, 1006718, 1017061, 107...</td>\n",
              "      <td>[1059294, 1229005, 969803, 245235, 898654]</td>\n",
              "    </tr>\n",
              "    <tr>\n",
              "      <th>3</th>\n",
              "      <td>7</td>\n",
              "      <td>[840386, 889774, 898068, 909714, 929067, 95347...</td>\n",
              "      <td>[1047541, 9487415, 858181, 927379, 12604455]</td>\n",
              "    </tr>\n",
              "    <tr>\n",
              "      <th>4</th>\n",
              "      <td>8</td>\n",
              "      <td>[835098, 872137, 910439, 924610, 992977, 10412...</td>\n",
              "      <td>[920457, 1079762, 830593, 908933, 887225]</td>\n",
              "    </tr>\n",
              "  </tbody>\n",
              "</table>\n",
              "</div>"
            ],
            "text/plain": [
              "   user_id                                             actual  \\\n",
              "0        1  [821867, 834484, 856942, 865456, 889248, 90795...   \n",
              "1        3  [835476, 851057, 872021, 878302, 879948, 90963...   \n",
              "2        6  [920308, 926804, 946489, 1006718, 1017061, 107...   \n",
              "3        7  [840386, 889774, 898068, 909714, 929067, 95347...   \n",
              "4        8  [835098, 872137, 910439, 924610, 992977, 10412...   \n",
              "\n",
              "                  weighted_random_recommendation  \n",
              "0  [13512363, 15717045, 1125492, 679901, 939491]  \n",
              "1       [870909, 931940, 901806, 869728, 849166]  \n",
              "2     [1059294, 1229005, 969803, 245235, 898654]  \n",
              "3   [1047541, 9487415, 858181, 927379, 12604455]  \n",
              "4      [920457, 1079762, 830593, 908933, 887225]  "
            ]
          },
          "execution_count": 73,
          "metadata": {},
          "output_type": "execute_result"
        }
      ],
      "source": [
        "%%time\n",
        "\n",
        "items_weights = data_train.groupby('item_id')['sales_value'].sum().reset_index()\n",
        "result['weighted_random_recommendation'] = result['user_id'].map(lambda x: weighted_random_recommendation(items_weights, n=5))\n",
        "result.head()"
      ]
    },
    {
      "cell_type": "markdown",
      "metadata": {
        "id": "hyNG6O-wC8Y_"
      },
      "source": [
        "### Задание 2. Расчет метрик\n",
        "Рассчитайте Precision@5, Precision@3, Recall@5 для каждого алгоритма с помощью функций из вебинара 1. Какой алгоритм показывает лучшее качество?"
      ]
    },
    {
      "cell_type": "code",
      "execution_count": null,
      "metadata": {
        "id": "36HtRgm8C8ZA"
      },
      "outputs": [],
      "source": [
        "def random_recommendation(items, n=5):\n",
        "    \"\"\"Случайные рекомендации\"\"\"\n",
        "    \n",
        "    items = np.array(items)\n",
        "    recs = np.random.choice(items, size=n, replace=False)\n",
        "    \n",
        "    return recs.tolist()"
      ]
    },
    {
      "cell_type": "code",
      "execution_count": null,
      "metadata": {
        "id": "_0cu0VeTC8ZD",
        "outputId": "371c3dac-894b-4e56-ab2d-b8b1f0757f36"
      },
      "outputs": [
        {
          "name": "stdout",
          "output_type": "stream",
          "text": [
            "Wall time: 7.26 s\n"
          ]
        },
        {
          "data": {
            "text/html": [
              "<div>\n",
              "<style scoped>\n",
              "    .dataframe tbody tr th:only-of-type {\n",
              "        vertical-align: middle;\n",
              "    }\n",
              "\n",
              "    .dataframe tbody tr th {\n",
              "        vertical-align: top;\n",
              "    }\n",
              "\n",
              "    .dataframe thead th {\n",
              "        text-align: right;\n",
              "    }\n",
              "</style>\n",
              "<table border=\"1\" class=\"dataframe\">\n",
              "  <thead>\n",
              "    <tr style=\"text-align: right;\">\n",
              "      <th></th>\n",
              "      <th>user_id</th>\n",
              "      <th>actual</th>\n",
              "      <th>weighted_random_recommendation</th>\n",
              "      <th>random_recommendation</th>\n",
              "    </tr>\n",
              "  </thead>\n",
              "  <tbody>\n",
              "    <tr>\n",
              "      <th>0</th>\n",
              "      <td>1</td>\n",
              "      <td>[821867, 834484, 856942, 865456, 889248, 90795...</td>\n",
              "      <td>[13512363, 15717045, 1125492, 679901, 939491]</td>\n",
              "      <td>[15511960, 1605740, 1046824, 317078, 13133862]</td>\n",
              "    </tr>\n",
              "    <tr>\n",
              "      <th>1</th>\n",
              "      <td>3</td>\n",
              "      <td>[835476, 851057, 872021, 878302, 879948, 90963...</td>\n",
              "      <td>[870909, 931940, 901806, 869728, 849166]</td>\n",
              "      <td>[1024241, 1105182, 1420994, 12391178, 12262886]</td>\n",
              "    </tr>\n",
              "  </tbody>\n",
              "</table>\n",
              "</div>"
            ],
            "text/plain": [
              "   user_id                                             actual  \\\n",
              "0        1  [821867, 834484, 856942, 865456, 889248, 90795...   \n",
              "1        3  [835476, 851057, 872021, 878302, 879948, 90963...   \n",
              "\n",
              "                  weighted_random_recommendation  \\\n",
              "0  [13512363, 15717045, 1125492, 679901, 939491]   \n",
              "1       [870909, 931940, 901806, 869728, 849166]   \n",
              "\n",
              "                             random_recommendation  \n",
              "0   [15511960, 1605740, 1046824, 317078, 13133862]  \n",
              "1  [1024241, 1105182, 1420994, 12391178, 12262886]  "
            ]
          },
          "execution_count": 75,
          "metadata": {},
          "output_type": "execute_result"
        }
      ],
      "source": [
        "%%time\n",
        "\n",
        "items = data_train.item_id.unique()\n",
        "\n",
        "result['random_recommendation'] = result['user_id'].map(lambda x: random_recommendation(items, n=5))\n",
        "result.head(2)"
      ]
    },
    {
      "cell_type": "code",
      "execution_count": null,
      "metadata": {
        "id": "3iwzg5ajLa-7"
      },
      "outputs": [],
      "source": [
        "def popularity_recommendation(data, n=5):\n",
        "    \"\"\"Топ-n популярных товаров\"\"\"\n",
        "    \n",
        "    popular = data.groupby('item_id')['sales_value'].sum().reset_index()\n",
        "    popular.sort_values('sales_value', ascending=False, inplace=True)\n",
        "    \n",
        "    recs = popular.head(n).item_id\n",
        "    \n",
        "    return recs.tolist()"
      ]
    },
    {
      "cell_type": "code",
      "execution_count": null,
      "metadata": {
        "id": "RsZ9Pv7OLa-8",
        "outputId": "d99ba003-71a0-4fe3-baed-ac9f3992d8b5"
      },
      "outputs": [
        {
          "name": "stdout",
          "output_type": "stream",
          "text": [
            "Wall time: 210 ms\n"
          ]
        },
        {
          "data": {
            "text/html": [
              "<div>\n",
              "<style scoped>\n",
              "    .dataframe tbody tr th:only-of-type {\n",
              "        vertical-align: middle;\n",
              "    }\n",
              "\n",
              "    .dataframe tbody tr th {\n",
              "        vertical-align: top;\n",
              "    }\n",
              "\n",
              "    .dataframe thead th {\n",
              "        text-align: right;\n",
              "    }\n",
              "</style>\n",
              "<table border=\"1\" class=\"dataframe\">\n",
              "  <thead>\n",
              "    <tr style=\"text-align: right;\">\n",
              "      <th></th>\n",
              "      <th>user_id</th>\n",
              "      <th>actual</th>\n",
              "      <th>weighted_random_recommendation</th>\n",
              "      <th>random_recommendation</th>\n",
              "      <th>popular_recommendation</th>\n",
              "    </tr>\n",
              "  </thead>\n",
              "  <tbody>\n",
              "    <tr>\n",
              "      <th>0</th>\n",
              "      <td>1</td>\n",
              "      <td>[821867, 834484, 856942, 865456, 889248, 90795...</td>\n",
              "      <td>[13512363, 15717045, 1125492, 679901, 939491]</td>\n",
              "      <td>[15511960, 1605740, 1046824, 317078, 13133862]</td>\n",
              "      <td>[6534178, 6533889, 1029743, 6534166, 1082185]</td>\n",
              "    </tr>\n",
              "    <tr>\n",
              "      <th>1</th>\n",
              "      <td>3</td>\n",
              "      <td>[835476, 851057, 872021, 878302, 879948, 90963...</td>\n",
              "      <td>[870909, 931940, 901806, 869728, 849166]</td>\n",
              "      <td>[1024241, 1105182, 1420994, 12391178, 12262886]</td>\n",
              "      <td>[6534178, 6533889, 1029743, 6534166, 1082185]</td>\n",
              "    </tr>\n",
              "  </tbody>\n",
              "</table>\n",
              "</div>"
            ],
            "text/plain": [
              "   user_id                                             actual  \\\n",
              "0        1  [821867, 834484, 856942, 865456, 889248, 90795...   \n",
              "1        3  [835476, 851057, 872021, 878302, 879948, 90963...   \n",
              "\n",
              "                  weighted_random_recommendation  \\\n",
              "0  [13512363, 15717045, 1125492, 679901, 939491]   \n",
              "1       [870909, 931940, 901806, 869728, 849166]   \n",
              "\n",
              "                             random_recommendation  \\\n",
              "0   [15511960, 1605740, 1046824, 317078, 13133862]   \n",
              "1  [1024241, 1105182, 1420994, 12391178, 12262886]   \n",
              "\n",
              "                          popular_recommendation  \n",
              "0  [6534178, 6533889, 1029743, 6534166, 1082185]  \n",
              "1  [6534178, 6533889, 1029743, 6534166, 1082185]  "
            ]
          },
          "execution_count": 77,
          "metadata": {},
          "output_type": "execute_result"
        }
      ],
      "source": [
        "%%time\n",
        "\n",
        "# Можно так делать, так как рекомендация не зависит от юзера\n",
        "popular_recs = popularity_recommendation(data_train, n=5)\n",
        "\n",
        "result['popular_recommendation'] = result['user_id'].map(lambda x: popular_recs)\n",
        "result.head(2)"
      ]
    },
    {
      "cell_type": "code",
      "execution_count": null,
      "metadata": {
        "id": "RXoprtAALa-9",
        "outputId": "7aee1e6a-2a7f-45e3-e647-3cff7d921aa0"
      },
      "outputs": [
        {
          "data": {
            "text/html": [
              "<div>\n",
              "<style scoped>\n",
              "    .dataframe tbody tr th:only-of-type {\n",
              "        vertical-align: middle;\n",
              "    }\n",
              "\n",
              "    .dataframe tbody tr th {\n",
              "        vertical-align: top;\n",
              "    }\n",
              "\n",
              "    .dataframe thead th {\n",
              "        text-align: right;\n",
              "    }\n",
              "</style>\n",
              "<table border=\"1\" class=\"dataframe\">\n",
              "  <thead>\n",
              "    <tr style=\"text-align: right;\">\n",
              "      <th></th>\n",
              "      <th>item_id</th>\n",
              "      <th>n_sold</th>\n",
              "    </tr>\n",
              "  </thead>\n",
              "  <tbody>\n",
              "    <tr>\n",
              "      <th>0</th>\n",
              "      <td>25671</td>\n",
              "      <td>6</td>\n",
              "    </tr>\n",
              "    <tr>\n",
              "      <th>1</th>\n",
              "      <td>26081</td>\n",
              "      <td>1</td>\n",
              "    </tr>\n",
              "    <tr>\n",
              "      <th>2</th>\n",
              "      <td>26093</td>\n",
              "      <td>1</td>\n",
              "    </tr>\n",
              "    <tr>\n",
              "      <th>3</th>\n",
              "      <td>26190</td>\n",
              "      <td>1</td>\n",
              "    </tr>\n",
              "    <tr>\n",
              "      <th>4</th>\n",
              "      <td>26355</td>\n",
              "      <td>2</td>\n",
              "    </tr>\n",
              "  </tbody>\n",
              "</table>\n",
              "</div>"
            ],
            "text/plain": [
              "   item_id  n_sold\n",
              "0    25671       6\n",
              "1    26081       1\n",
              "2    26093       1\n",
              "3    26190       1\n",
              "4    26355       2"
            ]
          },
          "execution_count": 78,
          "metadata": {},
          "output_type": "execute_result"
        }
      ],
      "source": [
        "popularity = data_train.groupby('item_id')['quantity'].sum().reset_index()\n",
        "popularity.rename(columns={'quantity': 'n_sold'}, inplace=True)\n",
        "\n",
        "popularity.head()"
      ]
    },
    {
      "cell_type": "code",
      "execution_count": null,
      "metadata": {
        "id": "5o1VSv1WLa--"
      },
      "outputs": [],
      "source": [
        "top_5000 = popularity.sort_values('n_sold', ascending=False).head(5000).item_id.tolist()"
      ]
    },
    {
      "cell_type": "code",
      "execution_count": null,
      "metadata": {
        "id": "U0-y0sxKLa--",
        "outputId": "e2572318-f0d6-4969-98ec-15275554dd4d"
      },
      "outputs": [
        {
          "data": {
            "text/plain": [
              "6           1043142\n",
              "8           1102651\n",
              "9           6423775\n",
              "10          9487839\n",
              "12           897044\n",
              "             ...   \n",
              "2282311    13877226\n",
              "2282314     1057256\n",
              "2282315    12487271\n",
              "2282316      836262\n",
              "2282321      993339\n",
              "Name: item_id, Length: 829774, dtype: int64"
            ]
          },
          "execution_count": 80,
          "metadata": {},
          "output_type": "execute_result"
        }
      ],
      "source": [
        "data_train.loc[~data_train['item_id'].isin(top_5000), 'item_id']"
      ]
    },
    {
      "cell_type": "code",
      "execution_count": null,
      "metadata": {
        "id": "tzNg8fR1La-_",
        "outputId": "fb604a06-242c-44b6-d4a6-2737fc03fb0d"
      },
      "outputs": [
        {
          "name": "stderr",
          "output_type": "stream",
          "text": [
            "C:\\Program Files\\Anaconda\\lib\\site-packages\\pandas\\core\\indexing.py:1720: SettingWithCopyWarning: \n",
            "A value is trying to be set on a copy of a slice from a DataFrame.\n",
            "Try using .loc[row_indexer,col_indexer] = value instead\n",
            "\n",
            "See the caveats in the documentation: https://pandas.pydata.org/pandas-docs/stable/user_guide/indexing.html#returning-a-view-versus-a-copy\n",
            "  self._setitem_single_column(loc, value, pi)\n"
          ]
        },
        {
          "data": {
            "text/html": [
              "<div>\n",
              "<style scoped>\n",
              "    .dataframe tbody tr th:only-of-type {\n",
              "        vertical-align: middle;\n",
              "    }\n",
              "\n",
              "    .dataframe tbody tr th {\n",
              "        vertical-align: top;\n",
              "    }\n",
              "\n",
              "    .dataframe thead th {\n",
              "        text-align: right;\n",
              "    }\n",
              "</style>\n",
              "<table border=\"1\" class=\"dataframe\">\n",
              "  <thead>\n",
              "    <tr style=\"text-align: right;\">\n",
              "      <th>item_id</th>\n",
              "      <th>202291</th>\n",
              "      <th>397896</th>\n",
              "      <th>420647</th>\n",
              "      <th>480014</th>\n",
              "      <th>545926</th>\n",
              "      <th>707683</th>\n",
              "      <th>731106</th>\n",
              "      <th>818980</th>\n",
              "      <th>819063</th>\n",
              "      <th>819227</th>\n",
              "      <th>...</th>\n",
              "      <th>15778533</th>\n",
              "      <th>15831255</th>\n",
              "      <th>15926712</th>\n",
              "      <th>15926775</th>\n",
              "      <th>15926844</th>\n",
              "      <th>15926886</th>\n",
              "      <th>15927403</th>\n",
              "      <th>15927661</th>\n",
              "      <th>15927850</th>\n",
              "      <th>16809471</th>\n",
              "    </tr>\n",
              "    <tr>\n",
              "      <th>user_id</th>\n",
              "      <th></th>\n",
              "      <th></th>\n",
              "      <th></th>\n",
              "      <th></th>\n",
              "      <th></th>\n",
              "      <th></th>\n",
              "      <th></th>\n",
              "      <th></th>\n",
              "      <th></th>\n",
              "      <th></th>\n",
              "      <th></th>\n",
              "      <th></th>\n",
              "      <th></th>\n",
              "      <th></th>\n",
              "      <th></th>\n",
              "      <th></th>\n",
              "      <th></th>\n",
              "      <th></th>\n",
              "      <th></th>\n",
              "      <th></th>\n",
              "      <th></th>\n",
              "    </tr>\n",
              "  </thead>\n",
              "  <tbody>\n",
              "    <tr>\n",
              "      <th>1</th>\n",
              "      <td>0.0</td>\n",
              "      <td>0.0</td>\n",
              "      <td>0.0</td>\n",
              "      <td>0.0</td>\n",
              "      <td>0.0</td>\n",
              "      <td>0.0</td>\n",
              "      <td>0.0</td>\n",
              "      <td>0.0</td>\n",
              "      <td>0.0</td>\n",
              "      <td>0.0</td>\n",
              "      <td>...</td>\n",
              "      <td>0.0</td>\n",
              "      <td>0.0</td>\n",
              "      <td>0.0</td>\n",
              "      <td>0.0</td>\n",
              "      <td>1.0</td>\n",
              "      <td>0.0</td>\n",
              "      <td>0.0</td>\n",
              "      <td>0.0</td>\n",
              "      <td>0.0</td>\n",
              "      <td>0.0</td>\n",
              "    </tr>\n",
              "    <tr>\n",
              "      <th>2</th>\n",
              "      <td>0.0</td>\n",
              "      <td>0.0</td>\n",
              "      <td>0.0</td>\n",
              "      <td>0.0</td>\n",
              "      <td>0.0</td>\n",
              "      <td>0.0</td>\n",
              "      <td>0.0</td>\n",
              "      <td>0.0</td>\n",
              "      <td>0.0</td>\n",
              "      <td>0.0</td>\n",
              "      <td>...</td>\n",
              "      <td>0.0</td>\n",
              "      <td>0.0</td>\n",
              "      <td>0.0</td>\n",
              "      <td>0.0</td>\n",
              "      <td>0.0</td>\n",
              "      <td>0.0</td>\n",
              "      <td>0.0</td>\n",
              "      <td>0.0</td>\n",
              "      <td>0.0</td>\n",
              "      <td>0.0</td>\n",
              "    </tr>\n",
              "    <tr>\n",
              "      <th>3</th>\n",
              "      <td>0.0</td>\n",
              "      <td>0.0</td>\n",
              "      <td>0.0</td>\n",
              "      <td>0.0</td>\n",
              "      <td>0.0</td>\n",
              "      <td>0.0</td>\n",
              "      <td>0.0</td>\n",
              "      <td>0.0</td>\n",
              "      <td>0.0</td>\n",
              "      <td>0.0</td>\n",
              "      <td>...</td>\n",
              "      <td>0.0</td>\n",
              "      <td>0.0</td>\n",
              "      <td>0.0</td>\n",
              "      <td>0.0</td>\n",
              "      <td>0.0</td>\n",
              "      <td>0.0</td>\n",
              "      <td>0.0</td>\n",
              "      <td>0.0</td>\n",
              "      <td>0.0</td>\n",
              "      <td>0.0</td>\n",
              "    </tr>\n",
              "  </tbody>\n",
              "</table>\n",
              "<p>3 rows × 5001 columns</p>\n",
              "</div>"
            ],
            "text/plain": [
              "item_id  202291    397896    420647    480014    545926    707683    731106    \\\n",
              "user_id                                                                         \n",
              "1             0.0       0.0       0.0       0.0       0.0       0.0       0.0   \n",
              "2             0.0       0.0       0.0       0.0       0.0       0.0       0.0   \n",
              "3             0.0       0.0       0.0       0.0       0.0       0.0       0.0   \n",
              "\n",
              "item_id  818980    819063    819227    ...  15778533  15831255  15926712  \\\n",
              "user_id                                ...                                 \n",
              "1             0.0       0.0       0.0  ...       0.0       0.0       0.0   \n",
              "2             0.0       0.0       0.0  ...       0.0       0.0       0.0   \n",
              "3             0.0       0.0       0.0  ...       0.0       0.0       0.0   \n",
              "\n",
              "item_id  15926775  15926844  15926886  15927403  15927661  15927850  16809471  \n",
              "user_id                                                                        \n",
              "1             0.0       1.0       0.0       0.0       0.0       0.0       0.0  \n",
              "2             0.0       0.0       0.0       0.0       0.0       0.0       0.0  \n",
              "3             0.0       0.0       0.0       0.0       0.0       0.0       0.0  \n",
              "\n",
              "[3 rows x 5001 columns]"
            ]
          },
          "execution_count": 81,
          "metadata": {},
          "output_type": "execute_result"
        }
      ],
      "source": [
        "data_train.loc[~data_train['item_id'].isin(top_5000), 'item_id'] = 999999\n",
        "\n",
        "user_item_matrix = pd.pivot_table(data_train, \n",
        "                                  index='user_id', columns='item_id', \n",
        "                                  values='quantity',\n",
        "                                  aggfunc='count', \n",
        "                                  fill_value=0\n",
        "                                 )\n",
        "\n",
        "user_item_matrix[user_item_matrix > 0] = 1 \n",
        "user_item_matrix = user_item_matrix.astype(float)\n",
        "\n",
        "\n",
        "sparse_user_item = csr_matrix(user_item_matrix).tocsr()\n",
        "\n",
        "user_item_matrix.head(3)"
      ]
    },
    {
      "cell_type": "code",
      "execution_count": null,
      "metadata": {
        "id": "O9gIEf2XLa_A"
      },
      "outputs": [],
      "source": [
        "userids = user_item_matrix.index.values\n",
        "itemids = user_item_matrix.columns.values\n",
        "\n",
        "matrix_userids = np.arange(len(userids))\n",
        "matrix_itemids = np.arange(len(itemids))\n",
        "\n",
        "id_to_itemid = dict(zip(matrix_itemids, itemids))\n",
        "id_to_userid = dict(zip(matrix_userids, userids))\n",
        "\n",
        "itemid_to_id = dict(zip(itemids, matrix_itemids))\n",
        "userid_to_id = dict(zip(userids, matrix_userids))"
      ]
    },
    {
      "cell_type": "code",
      "execution_count": null,
      "metadata": {
        "colab": {
          "referenced_widgets": [
            "c1863febc0d94536a7c7876798687a01"
          ]
        },
        "id": "G39FmphxLa_A",
        "outputId": "9d4d92c7-cea5-4746-c2dd-450d55dbf41c"
      },
      "outputs": [
        {
          "data": {
            "application/vnd.jupyter.widget-view+json": {
              "model_id": "c1863febc0d94536a7c7876798687a01",
              "version_major": 2,
              "version_minor": 0
            },
            "text/plain": [
              "  0%|          | 0/5001 [00:00<?, ?it/s]"
            ]
          },
          "metadata": {},
          "output_type": "display_data"
        },
        {
          "name": "stdout",
          "output_type": "stream",
          "text": [
            "Wall time: 1.08 s\n"
          ]
        }
      ],
      "source": [
        "%%time\n",
        "\n",
        "model = ItemItemRecommender(K=5, num_threads=4) # K - кол-во билжайших соседей\n",
        "\n",
        "model.fit(sparse_user_item,  # На вход item-user matrix\n",
        "          show_progress=True)\n",
        "\n",
        "recs = model.recommend(userid=userid_to_id[2],  # userid - id от 0 до N\n",
        "                        user_items=sparse_user_item,   # на вход user-item matrix\n",
        "                        N=5, # кол-во рекомендаций \n",
        "                        filter_already_liked_items=False, \n",
        "                        filter_items=[itemid_to_id[999999]], \n",
        "                        recalculate_user=False)"
      ]
    },
    {
      "cell_type": "code",
      "execution_count": null,
      "metadata": {
        "id": "7NZed7QaLa_B",
        "outputId": "445ea601-15c9-4b92-d168-e2f710de3fcb"
      },
      "outputs": [
        {
          "data": {
            "text/plain": [
              "(array([3587, 2307, 2148, 3947, 3408]),\n",
              " array([ 7431., 12981., 43806., 17219., 56269.]))"
            ]
          },
          "execution_count": 84,
          "metadata": {},
          "output_type": "execute_result"
        }
      ],
      "source": [
        "recs"
      ]
    },
    {
      "cell_type": "code",
      "execution_count": null,
      "metadata": {
        "id": "kkMahSqlLa_C",
        "outputId": "e27f25d8-3132-476f-8230-4514a16993f9"
      },
      "outputs": [
        {
          "data": {
            "text/plain": [
              "[1098066, 995242, 981760, 1127831, 1082185]"
            ]
          },
          "execution_count": 85,
          "metadata": {},
          "output_type": "execute_result"
        }
      ],
      "source": [
        "[id_to_itemid[rec] for rec in recs[0]]"
      ]
    },
    {
      "cell_type": "code",
      "execution_count": null,
      "metadata": {
        "id": "40x6Y2XALa_C",
        "outputId": "b1a21ae7-76b4-4ba4-c920-96c2301c597c"
      },
      "outputs": [
        {
          "name": "stdout",
          "output_type": "stream",
          "text": [
            "Wall time: 171 ms\n"
          ]
        }
      ],
      "source": [
        "%%time\n",
        "result['itemitem'] = result['user_id'].\\\n",
        "    map(lambda x: [id_to_itemid[rec] for rec in \n",
        "                    model.recommend(userid=userid_to_id[x], \n",
        "                                    user_items=sparse_user_item,   # на вход user-item matrix\n",
        "                                    N=5, \n",
        "                                    filter_already_liked_items=False, \n",
        "                                    filter_items=[itemid_to_id[999999]], \n",
        "                                    recalculate_user=True)[0]])"
      ]
    },
    {
      "cell_type": "code",
      "execution_count": null,
      "metadata": {
        "id": "d4LxLS-DLa_C",
        "outputId": "a7eec4da-f24c-4e10-fda8-c9bfac3f1a65"
      },
      "outputs": [
        {
          "data": {
            "text/html": [
              "<div>\n",
              "<style scoped>\n",
              "    .dataframe tbody tr th:only-of-type {\n",
              "        vertical-align: middle;\n",
              "    }\n",
              "\n",
              "    .dataframe tbody tr th {\n",
              "        vertical-align: top;\n",
              "    }\n",
              "\n",
              "    .dataframe thead th {\n",
              "        text-align: right;\n",
              "    }\n",
              "</style>\n",
              "<table border=\"1\" class=\"dataframe\">\n",
              "  <thead>\n",
              "    <tr style=\"text-align: right;\">\n",
              "      <th></th>\n",
              "      <th>user_id</th>\n",
              "      <th>actual</th>\n",
              "      <th>weighted_random_recommendation</th>\n",
              "      <th>random_recommendation</th>\n",
              "      <th>popular_recommendation</th>\n",
              "      <th>itemitem</th>\n",
              "    </tr>\n",
              "  </thead>\n",
              "  <tbody>\n",
              "    <tr>\n",
              "      <th>0</th>\n",
              "      <td>1</td>\n",
              "      <td>[821867, 834484, 856942, 865456, 889248, 90795...</td>\n",
              "      <td>[13512363, 15717045, 1125492, 679901, 939491]</td>\n",
              "      <td>[15511960, 1605740, 1046824, 317078, 13133862]</td>\n",
              "      <td>[6534178, 6533889, 1029743, 6534166, 1082185]</td>\n",
              "      <td>[1098066, 995242, 981760, 1127831, 1082185]</td>\n",
              "    </tr>\n",
              "    <tr>\n",
              "      <th>1</th>\n",
              "      <td>3</td>\n",
              "      <td>[835476, 851057, 872021, 878302, 879948, 90963...</td>\n",
              "      <td>[870909, 931940, 901806, 869728, 849166]</td>\n",
              "      <td>[1024241, 1105182, 1420994, 12391178, 12262886]</td>\n",
              "      <td>[6534178, 6533889, 1029743, 6534166, 1082185]</td>\n",
              "      <td>[1098066, 995242, 981760, 1127831, 1082185]</td>\n",
              "    </tr>\n",
              "  </tbody>\n",
              "</table>\n",
              "</div>"
            ],
            "text/plain": [
              "   user_id                                             actual  \\\n",
              "0        1  [821867, 834484, 856942, 865456, 889248, 90795...   \n",
              "1        3  [835476, 851057, 872021, 878302, 879948, 90963...   \n",
              "\n",
              "                  weighted_random_recommendation  \\\n",
              "0  [13512363, 15717045, 1125492, 679901, 939491]   \n",
              "1       [870909, 931940, 901806, 869728, 849166]   \n",
              "\n",
              "                             random_recommendation  \\\n",
              "0   [15511960, 1605740, 1046824, 317078, 13133862]   \n",
              "1  [1024241, 1105182, 1420994, 12391178, 12262886]   \n",
              "\n",
              "                          popular_recommendation  \\\n",
              "0  [6534178, 6533889, 1029743, 6534166, 1082185]   \n",
              "1  [6534178, 6533889, 1029743, 6534166, 1082185]   \n",
              "\n",
              "                                      itemitem  \n",
              "0  [1098066, 995242, 981760, 1127831, 1082185]  \n",
              "1  [1098066, 995242, 981760, 1127831, 1082185]  "
            ]
          },
          "execution_count": 87,
          "metadata": {},
          "output_type": "execute_result"
        }
      ],
      "source": [
        "result.head(2)"
      ]
    },
    {
      "cell_type": "code",
      "execution_count": null,
      "metadata": {
        "id": "4y2hpCBVLa_D",
        "outputId": "8afd6ee4-28d4-4268-a0c3-95b4d784a992"
      },
      "outputs": [
        {
          "data": {
            "text/plain": [
              "[961554, 1098066, 1127831, 981760, 1082185]"
            ]
          },
          "execution_count": 89,
          "metadata": {},
          "output_type": "execute_result"
        }
      ],
      "source": [
        "[id_to_itemid[rec] for rec in recs[0]]"
      ]
    },
    {
      "cell_type": "code",
      "execution_count": null,
      "metadata": {
        "id": "FYsBcK5ZLa_E",
        "outputId": "55098b58-b411-4f3c-f5e1-384851d47d4a"
      },
      "outputs": [
        {
          "name": "stdout",
          "output_type": "stream",
          "text": [
            "Wall time: 168 ms\n"
          ]
        }
      ],
      "source": [
        "%%time\n",
        "\n",
        "result['cosine'] = result['user_id'].\\\n",
        "    apply(lambda x: [id_to_itemid[rec] for rec in \n",
        "                    model.recommend(userid=userid_to_id[x], \n",
        "                                    user_items=sparse_user_item,   # на вход user-item matrix\n",
        "                                    N=5, \n",
        "                                    filter_already_liked_items=False, \n",
        "                                    filter_items=[itemid_to_id[999999]], \n",
        "                                    recalculate_user=False)[0]])"
      ]
    },
    {
      "cell_type": "code",
      "execution_count": null,
      "metadata": {
        "id": "DpegLHJkLa_E",
        "outputId": "e1b4be2f-cb45-4d63-c95a-952af204d695"
      },
      "outputs": [
        {
          "data": {
            "text/html": [
              "<div>\n",
              "<style scoped>\n",
              "    .dataframe tbody tr th:only-of-type {\n",
              "        vertical-align: middle;\n",
              "    }\n",
              "\n",
              "    .dataframe tbody tr th {\n",
              "        vertical-align: top;\n",
              "    }\n",
              "\n",
              "    .dataframe thead th {\n",
              "        text-align: right;\n",
              "    }\n",
              "</style>\n",
              "<table border=\"1\" class=\"dataframe\">\n",
              "  <thead>\n",
              "    <tr style=\"text-align: right;\">\n",
              "      <th></th>\n",
              "      <th>user_id</th>\n",
              "      <th>actual</th>\n",
              "      <th>weighted_random_recommendation</th>\n",
              "      <th>random_recommendation</th>\n",
              "      <th>popular_recommendation</th>\n",
              "      <th>itemitem</th>\n",
              "      <th>cosine</th>\n",
              "    </tr>\n",
              "  </thead>\n",
              "  <tbody>\n",
              "    <tr>\n",
              "      <th>0</th>\n",
              "      <td>1</td>\n",
              "      <td>[821867, 834484, 856942, 865456, 889248, 90795...</td>\n",
              "      <td>[13512363, 15717045, 1125492, 679901, 939491]</td>\n",
              "      <td>[15511960, 1605740, 1046824, 317078, 13133862]</td>\n",
              "      <td>[6534178, 6533889, 1029743, 6534166, 1082185]</td>\n",
              "      <td>[1098066, 995242, 981760, 1127831, 1082185]</td>\n",
              "      <td>[961554, 1098066, 1127831, 981760, 1082185]</td>\n",
              "    </tr>\n",
              "    <tr>\n",
              "      <th>1</th>\n",
              "      <td>3</td>\n",
              "      <td>[835476, 851057, 872021, 878302, 879948, 90963...</td>\n",
              "      <td>[870909, 931940, 901806, 869728, 849166]</td>\n",
              "      <td>[1024241, 1105182, 1420994, 12391178, 12262886]</td>\n",
              "      <td>[6534178, 6533889, 1029743, 6534166, 1082185]</td>\n",
              "      <td>[1098066, 995242, 981760, 1127831, 1082185]</td>\n",
              "      <td>[961554, 1098066, 1127831, 981760, 1082185]</td>\n",
              "    </tr>\n",
              "  </tbody>\n",
              "</table>\n",
              "</div>"
            ],
            "text/plain": [
              "   user_id                                             actual  \\\n",
              "0        1  [821867, 834484, 856942, 865456, 889248, 90795...   \n",
              "1        3  [835476, 851057, 872021, 878302, 879948, 90963...   \n",
              "\n",
              "                  weighted_random_recommendation  \\\n",
              "0  [13512363, 15717045, 1125492, 679901, 939491]   \n",
              "1       [870909, 931940, 901806, 869728, 849166]   \n",
              "\n",
              "                             random_recommendation  \\\n",
              "0   [15511960, 1605740, 1046824, 317078, 13133862]   \n",
              "1  [1024241, 1105182, 1420994, 12391178, 12262886]   \n",
              "\n",
              "                          popular_recommendation  \\\n",
              "0  [6534178, 6533889, 1029743, 6534166, 1082185]   \n",
              "1  [6534178, 6533889, 1029743, 6534166, 1082185]   \n",
              "\n",
              "                                      itemitem  \\\n",
              "0  [1098066, 995242, 981760, 1127831, 1082185]   \n",
              "1  [1098066, 995242, 981760, 1127831, 1082185]   \n",
              "\n",
              "                                        cosine  \n",
              "0  [961554, 1098066, 1127831, 981760, 1082185]  \n",
              "1  [961554, 1098066, 1127831, 981760, 1082185]  "
            ]
          },
          "execution_count": 91,
          "metadata": {},
          "output_type": "execute_result"
        }
      ],
      "source": [
        "result.head(2)"
      ]
    },
    {
      "cell_type": "code",
      "execution_count": null,
      "metadata": {
        "id": "P8IsPxa7La_F",
        "outputId": "0b1afbbd-7f93-452f-f5ef-7ac8fb24bb6e"
      },
      "outputs": [
        {
          "data": {
            "text/plain": [
              "[961554, 1098066, 1127831, 981760, 1082185]"
            ]
          },
          "execution_count": 93,
          "metadata": {},
          "output_type": "execute_result"
        }
      ],
      "source": [
        "[id_to_itemid[rec] for rec in recs[0]]"
      ]
    },
    {
      "cell_type": "code",
      "execution_count": null,
      "metadata": {
        "id": "f98hSJ-5La_F",
        "outputId": "6d287c9f-4a6b-46cc-d74a-0d651ba6164c"
      },
      "outputs": [
        {
          "name": "stdout",
          "output_type": "stream",
          "text": [
            "Wall time: 179 ms\n"
          ]
        }
      ],
      "source": [
        "%%time\n",
        "\n",
        "result['tfidf'] = result['user_id'].\\\n",
        "    apply(lambda x: [id_to_itemid[rec] for rec in \n",
        "                    model.recommend(userid=userid_to_id[x], \n",
        "                                    user_items=sparse_user_item,   # на вход user-item matrix\n",
        "                                    N=5, \n",
        "                                    filter_already_liked_items=False, \n",
        "                                    filter_items=[itemid_to_id[999999]], \n",
        "                                    recalculate_user=False)[0]])"
      ]
    },
    {
      "cell_type": "code",
      "execution_count": null,
      "metadata": {
        "id": "H1G_aAneLa_G",
        "outputId": "0a1e2f89-4596-46d1-de84-608f8dafab2f"
      },
      "outputs": [
        {
          "data": {
            "text/html": [
              "<div>\n",
              "<style scoped>\n",
              "    .dataframe tbody tr th:only-of-type {\n",
              "        vertical-align: middle;\n",
              "    }\n",
              "\n",
              "    .dataframe tbody tr th {\n",
              "        vertical-align: top;\n",
              "    }\n",
              "\n",
              "    .dataframe thead th {\n",
              "        text-align: right;\n",
              "    }\n",
              "</style>\n",
              "<table border=\"1\" class=\"dataframe\">\n",
              "  <thead>\n",
              "    <tr style=\"text-align: right;\">\n",
              "      <th></th>\n",
              "      <th>user_id</th>\n",
              "      <th>actual</th>\n",
              "      <th>weighted_random_recommendation</th>\n",
              "      <th>random_recommendation</th>\n",
              "      <th>popular_recommendation</th>\n",
              "      <th>itemitem</th>\n",
              "      <th>cosine</th>\n",
              "      <th>tfidf</th>\n",
              "    </tr>\n",
              "  </thead>\n",
              "  <tbody>\n",
              "    <tr>\n",
              "      <th>0</th>\n",
              "      <td>1</td>\n",
              "      <td>[821867, 834484, 856942, 865456, 889248, 90795...</td>\n",
              "      <td>[13512363, 15717045, 1125492, 679901, 939491]</td>\n",
              "      <td>[15511960, 1605740, 1046824, 317078, 13133862]</td>\n",
              "      <td>[6534178, 6533889, 1029743, 6534166, 1082185]</td>\n",
              "      <td>[1098066, 995242, 981760, 1127831, 1082185]</td>\n",
              "      <td>[961554, 1098066, 1127831, 981760, 1082185]</td>\n",
              "      <td>[961554, 1098066, 1127831, 981760, 1082185]</td>\n",
              "    </tr>\n",
              "    <tr>\n",
              "      <th>1</th>\n",
              "      <td>3</td>\n",
              "      <td>[835476, 851057, 872021, 878302, 879948, 90963...</td>\n",
              "      <td>[870909, 931940, 901806, 869728, 849166]</td>\n",
              "      <td>[1024241, 1105182, 1420994, 12391178, 12262886]</td>\n",
              "      <td>[6534178, 6533889, 1029743, 6534166, 1082185]</td>\n",
              "      <td>[1098066, 995242, 981760, 1127831, 1082185]</td>\n",
              "      <td>[961554, 1098066, 1127831, 981760, 1082185]</td>\n",
              "      <td>[961554, 1098066, 1127831, 981760, 1082185]</td>\n",
              "    </tr>\n",
              "  </tbody>\n",
              "</table>\n",
              "</div>"
            ],
            "text/plain": [
              "   user_id                                             actual  \\\n",
              "0        1  [821867, 834484, 856942, 865456, 889248, 90795...   \n",
              "1        3  [835476, 851057, 872021, 878302, 879948, 90963...   \n",
              "\n",
              "                  weighted_random_recommendation  \\\n",
              "0  [13512363, 15717045, 1125492, 679901, 939491]   \n",
              "1       [870909, 931940, 901806, 869728, 849166]   \n",
              "\n",
              "                             random_recommendation  \\\n",
              "0   [15511960, 1605740, 1046824, 317078, 13133862]   \n",
              "1  [1024241, 1105182, 1420994, 12391178, 12262886]   \n",
              "\n",
              "                          popular_recommendation  \\\n",
              "0  [6534178, 6533889, 1029743, 6534166, 1082185]   \n",
              "1  [6534178, 6533889, 1029743, 6534166, 1082185]   \n",
              "\n",
              "                                      itemitem  \\\n",
              "0  [1098066, 995242, 981760, 1127831, 1082185]   \n",
              "1  [1098066, 995242, 981760, 1127831, 1082185]   \n",
              "\n",
              "                                        cosine  \\\n",
              "0  [961554, 1098066, 1127831, 981760, 1082185]   \n",
              "1  [961554, 1098066, 1127831, 981760, 1082185]   \n",
              "\n",
              "                                         tfidf  \n",
              "0  [961554, 1098066, 1127831, 981760, 1082185]  \n",
              "1  [961554, 1098066, 1127831, 981760, 1082185]  "
            ]
          },
          "execution_count": 95,
          "metadata": {},
          "output_type": "execute_result"
        }
      ],
      "source": [
        "result.head(2)"
      ]
    },
    {
      "cell_type": "code",
      "execution_count": null,
      "metadata": {
        "id": "WYZUYVQWLa_G",
        "outputId": "70f042b9-a7b3-44ee-aea0-5425861d6ca9"
      },
      "outputs": [
        {
          "name": "stdout",
          "output_type": "stream",
          "text": [
            "Wall time: 176 ms\n"
          ]
        }
      ],
      "source": [
        "%%time\n",
        "\n",
        "result['own_purchases'] = result['user_id'].\\\n",
        "    apply(lambda x: [id_to_itemid[rec] for rec in \n",
        "                    model.recommend(userid=userid_to_id[x], \n",
        "                                    user_items=sparse_user_item,   # на вход user-item matrix\n",
        "                                    N=5, \n",
        "                                    filter_already_liked_items=False, \n",
        "                                    filter_items=[itemid_to_id[999999]], \n",
        "                                    recalculate_user=False)[0]])"
      ]
    },
    {
      "cell_type": "code",
      "execution_count": null,
      "metadata": {
        "id": "cFcrQ-6kLa_G",
        "outputId": "3fc184a2-8d86-4b54-c710-15cd8870ede5"
      },
      "outputs": [
        {
          "data": {
            "text/html": [
              "<div>\n",
              "<style scoped>\n",
              "    .dataframe tbody tr th:only-of-type {\n",
              "        vertical-align: middle;\n",
              "    }\n",
              "\n",
              "    .dataframe tbody tr th {\n",
              "        vertical-align: top;\n",
              "    }\n",
              "\n",
              "    .dataframe thead th {\n",
              "        text-align: right;\n",
              "    }\n",
              "</style>\n",
              "<table border=\"1\" class=\"dataframe\">\n",
              "  <thead>\n",
              "    <tr style=\"text-align: right;\">\n",
              "      <th></th>\n",
              "      <th>user_id</th>\n",
              "      <th>actual</th>\n",
              "      <th>weighted_random_recommendation</th>\n",
              "      <th>random_recommendation</th>\n",
              "      <th>popular_recommendation</th>\n",
              "      <th>itemitem</th>\n",
              "      <th>cosine</th>\n",
              "      <th>tfidf</th>\n",
              "      <th>own_purchases</th>\n",
              "    </tr>\n",
              "  </thead>\n",
              "  <tbody>\n",
              "    <tr>\n",
              "      <th>0</th>\n",
              "      <td>1</td>\n",
              "      <td>[821867, 834484, 856942, 865456, 889248, 90795...</td>\n",
              "      <td>[13512363, 15717045, 1125492, 679901, 939491]</td>\n",
              "      <td>[15511960, 1605740, 1046824, 317078, 13133862]</td>\n",
              "      <td>[6534178, 6533889, 1029743, 6534166, 1082185]</td>\n",
              "      <td>[1098066, 995242, 981760, 1127831, 1082185]</td>\n",
              "      <td>[961554, 1098066, 1127831, 981760, 1082185]</td>\n",
              "      <td>[961554, 1098066, 1127831, 981760, 1082185]</td>\n",
              "      <td>[961554, 1098066, 1127831, 981760, 1082185]</td>\n",
              "    </tr>\n",
              "    <tr>\n",
              "      <th>1</th>\n",
              "      <td>3</td>\n",
              "      <td>[835476, 851057, 872021, 878302, 879948, 90963...</td>\n",
              "      <td>[870909, 931940, 901806, 869728, 849166]</td>\n",
              "      <td>[1024241, 1105182, 1420994, 12391178, 12262886]</td>\n",
              "      <td>[6534178, 6533889, 1029743, 6534166, 1082185]</td>\n",
              "      <td>[1098066, 995242, 981760, 1127831, 1082185]</td>\n",
              "      <td>[961554, 1098066, 1127831, 981760, 1082185]</td>\n",
              "      <td>[961554, 1098066, 1127831, 981760, 1082185]</td>\n",
              "      <td>[961554, 1098066, 1127831, 981760, 1082185]</td>\n",
              "    </tr>\n",
              "  </tbody>\n",
              "</table>\n",
              "</div>"
            ],
            "text/plain": [
              "   user_id                                             actual  \\\n",
              "0        1  [821867, 834484, 856942, 865456, 889248, 90795...   \n",
              "1        3  [835476, 851057, 872021, 878302, 879948, 90963...   \n",
              "\n",
              "                  weighted_random_recommendation  \\\n",
              "0  [13512363, 15717045, 1125492, 679901, 939491]   \n",
              "1       [870909, 931940, 901806, 869728, 849166]   \n",
              "\n",
              "                             random_recommendation  \\\n",
              "0   [15511960, 1605740, 1046824, 317078, 13133862]   \n",
              "1  [1024241, 1105182, 1420994, 12391178, 12262886]   \n",
              "\n",
              "                          popular_recommendation  \\\n",
              "0  [6534178, 6533889, 1029743, 6534166, 1082185]   \n",
              "1  [6534178, 6533889, 1029743, 6534166, 1082185]   \n",
              "\n",
              "                                      itemitem  \\\n",
              "0  [1098066, 995242, 981760, 1127831, 1082185]   \n",
              "1  [1098066, 995242, 981760, 1127831, 1082185]   \n",
              "\n",
              "                                        cosine  \\\n",
              "0  [961554, 1098066, 1127831, 981760, 1082185]   \n",
              "1  [961554, 1098066, 1127831, 981760, 1082185]   \n",
              "\n",
              "                                         tfidf  \\\n",
              "0  [961554, 1098066, 1127831, 981760, 1082185]   \n",
              "1  [961554, 1098066, 1127831, 981760, 1082185]   \n",
              "\n",
              "                                 own_purchases  \n",
              "0  [961554, 1098066, 1127831, 981760, 1082185]  \n",
              "1  [961554, 1098066, 1127831, 981760, 1082185]  "
            ]
          },
          "execution_count": 97,
          "metadata": {},
          "output_type": "execute_result"
        }
      ],
      "source": [
        "result.head(2)"
      ]
    },
    {
      "cell_type": "code",
      "execution_count": null,
      "metadata": {
        "id": "hSCtMGgWLa_H"
      },
      "outputs": [],
      "source": [
        "def precision_at_k(recommended_list, bought_list, k=5):\n",
        "    \n",
        "    bought_list = np.array(bought_list)\n",
        "    recommended_list = np.array(recommended_list)\n",
        "    \n",
        "    bought_list = bought_list  # Тут нет [:k] !!\n",
        "    recommended_list = recommended_list[:k]\n",
        "    \n",
        "    flags = np.isin(recommended_list, bought_list)\n",
        "    \n",
        "    precision = flags.sum() / len(recommended_list)\n",
        "    \n",
        "    \n",
        "    return precision"
      ]
    },
    {
      "cell_type": "code",
      "execution_count": null,
      "metadata": {
        "id": "alCmz6GRLa_H",
        "outputId": "35f71fc7-aafc-45b6-f1df-f064013ddc58"
      },
      "outputs": [
        {
          "data": {
            "text/plain": [
              "0.00088"
            ]
          },
          "execution_count": 99,
          "metadata": {},
          "output_type": "execute_result"
        }
      ],
      "source": [
        "rr_at_5 = round(result.apply(lambda row: precision_at_k(row['random_recommendation'], row['actual']), axis=1).mean(), 5)\n",
        "rr_at_5"
      ]
    },
    {
      "cell_type": "code",
      "execution_count": null,
      "metadata": {
        "id": "em0JXKWRLa_H",
        "outputId": "879e81f8-2ec5-489e-db33-c12b781f4bda"
      },
      "outputs": [
        {
          "data": {
            "text/plain": [
              "0.15524"
            ]
          },
          "execution_count": 100,
          "metadata": {},
          "output_type": "execute_result"
        }
      ],
      "source": [
        "pr_at_5 = round(result.apply(lambda row: precision_at_k(row['popular_recommendation'], row['actual']), axis=1).mean(), 5)\n",
        "pr_at_5"
      ]
    },
    {
      "cell_type": "code",
      "execution_count": null,
      "metadata": {
        "id": "YFH3eEhfLa_I",
        "outputId": "194aa9b4-255a-45b3-8967-8960d9b3d2b0"
      },
      "outputs": [
        {
          "data": {
            "text/plain": [
              "0.00069"
            ]
          },
          "execution_count": 101,
          "metadata": {},
          "output_type": "execute_result"
        }
      ],
      "source": [
        "wrr_at_5 = round(result.apply(lambda row: precision_at_k(row['weighted_random_recommendation'], row['actual']), axis=1).mean(), 5)\n",
        "wrr_at_5"
      ]
    },
    {
      "cell_type": "code",
      "execution_count": null,
      "metadata": {
        "id": "5lYnASusLa_I",
        "outputId": "e8814dfc-5f20-483b-e9d1-8a5970b1c047"
      },
      "outputs": [
        {
          "data": {
            "text/plain": [
              "0.14574"
            ]
          },
          "execution_count": 102,
          "metadata": {},
          "output_type": "execute_result"
        }
      ],
      "source": [
        "ii_at_5 = round(result.apply(lambda row: precision_at_k(row['itemitem'], row['actual']), axis=1).mean(), 5)\n",
        "ii_at_5"
      ]
    },
    {
      "cell_type": "code",
      "execution_count": null,
      "metadata": {
        "id": "zrMLi7DxLa_I",
        "outputId": "6433f577-f007-49fa-fa4a-c3d006c1acfa"
      },
      "outputs": [
        {
          "data": {
            "text/plain": [
              "0.13546"
            ]
          },
          "execution_count": 103,
          "metadata": {},
          "output_type": "execute_result"
        }
      ],
      "source": [
        "cos_at_5 = round(result.apply(lambda row: precision_at_k(row['cosine'], row['actual']), axis=1).mean(), 5)\n",
        "cos_at_5"
      ]
    },
    {
      "cell_type": "code",
      "execution_count": null,
      "metadata": {
        "id": "1aMhOaUZLa_J",
        "outputId": "9a9beae6-540e-4998-aee1-29b8f74fcb87"
      },
      "outputs": [
        {
          "data": {
            "text/plain": [
              "0.13546"
            ]
          },
          "execution_count": 104,
          "metadata": {},
          "output_type": "execute_result"
        }
      ],
      "source": [
        "tfidf_at_5 = round(result.apply(lambda row: precision_at_k(row['tfidf'], row['actual']), axis=1).mean(), 5)\n",
        "tfidf_at_5"
      ]
    },
    {
      "cell_type": "code",
      "execution_count": null,
      "metadata": {
        "id": "KLdpsw_6La_K",
        "outputId": "ec5d2e1b-6bfd-447a-dc3c-a3ff1dd31ac1"
      },
      "outputs": [
        {
          "data": {
            "text/plain": [
              "0.13546"
            ]
          },
          "execution_count": 105,
          "metadata": {},
          "output_type": "execute_result"
        }
      ],
      "source": [
        "op_at_5 = round(result.apply(lambda row: precision_at_k(row['own_purchases'], row['actual']), axis=1).mean(), 5)\n",
        "op_at_5"
      ]
    },
    {
      "cell_type": "code",
      "execution_count": null,
      "metadata": {
        "id": "ph7LiaeGLa_K"
      },
      "outputs": [],
      "source": [
        "prec_at_5 = [rr_at_5, pr_at_5, wrr_at_5, ii_at_5, cos_at_5, tfidf_at_5, op_at_5]"
      ]
    },
    {
      "cell_type": "code",
      "execution_count": null,
      "metadata": {
        "id": "NtWNtrH2La_L",
        "outputId": "a9dfbd09-a93c-4cf2-c5fa-637cb8bfc1da"
      },
      "outputs": [
        {
          "data": {
            "text/plain": [
              "0.00082"
            ]
          },
          "execution_count": 107,
          "metadata": {},
          "output_type": "execute_result"
        }
      ],
      "source": [
        "rr_at_3 = round(result.apply(lambda row: precision_at_k(row['random_recommendation'], row['actual'], 3), axis=1).mean(), 5)\n",
        "rr_at_3"
      ]
    },
    {
      "cell_type": "code",
      "execution_count": null,
      "metadata": {
        "id": "j5sHA_-DLa_L",
        "outputId": "38234677-cc70-44cb-914f-28815f81c588"
      },
      "outputs": [
        {
          "data": {
            "text/plain": [
              "0.13777"
            ]
          },
          "execution_count": 108,
          "metadata": {},
          "output_type": "execute_result"
        }
      ],
      "source": [
        "pr_at_3 = round(result.apply(lambda row: precision_at_k(row['popular_recommendation'], row['actual'], 3), axis=1).mean(), 5)\n",
        "pr_at_3"
      ]
    },
    {
      "cell_type": "code",
      "execution_count": null,
      "metadata": {
        "id": "pQk94zBoLa_N",
        "outputId": "7795dffb-bbfb-4d89-fdfc-403cf8d9533c"
      },
      "outputs": [
        {
          "data": {
            "text/plain": [
              "0.00082"
            ]
          },
          "execution_count": 109,
          "metadata": {},
          "output_type": "execute_result"
        }
      ],
      "source": [
        "wrr_at_3 = round(result.apply(lambda row: precision_at_k(row['weighted_random_recommendation'], row['actual'], 3), axis=1).mean(), 5)\n",
        "wrr_at_3"
      ]
    },
    {
      "cell_type": "code",
      "execution_count": null,
      "metadata": {
        "id": "FqMpAqSbLa_N",
        "outputId": "21339f98-7a8a-4415-e317-dbe0a125e2df"
      },
      "outputs": [
        {
          "data": {
            "text/plain": [
              "0.11965"
            ]
          },
          "execution_count": 110,
          "metadata": {},
          "output_type": "execute_result"
        }
      ],
      "source": [
        "ii_at_3 = round(result.apply(lambda row: precision_at_k(row['itemitem'], row['actual'], 3), axis=1).mean(), 5)\n",
        "ii_at_3"
      ]
    },
    {
      "cell_type": "code",
      "execution_count": null,
      "metadata": {
        "id": "0wOxy7fHLa_O",
        "outputId": "2cd87a51-5056-4fbc-8bfc-76a69f48c01d"
      },
      "outputs": [
        {
          "data": {
            "text/plain": [
              "0.05893"
            ]
          },
          "execution_count": 111,
          "metadata": {},
          "output_type": "execute_result"
        }
      ],
      "source": [
        "cos_at_3 = round(result.apply(lambda row: precision_at_k(row['cosine'], row['actual'], 3), axis=1).mean(), 5)\n",
        "cos_at_3"
      ]
    },
    {
      "cell_type": "code",
      "execution_count": null,
      "metadata": {
        "id": "cFD8cNHbLa_P",
        "outputId": "f8fff01a-a5d4-4af3-f187-c5d4db959844"
      },
      "outputs": [
        {
          "data": {
            "text/plain": [
              "0.05893"
            ]
          },
          "execution_count": 112,
          "metadata": {},
          "output_type": "execute_result"
        }
      ],
      "source": [
        "tfidf_at_3 = round(result.apply(lambda row: precision_at_k(row['tfidf'], row['actual'], 3), axis=1).mean(), 5)\n",
        "tfidf_at_3"
      ]
    },
    {
      "cell_type": "code",
      "execution_count": null,
      "metadata": {
        "id": "_rult0bALa_P",
        "outputId": "bb97d364-07fd-4d7e-ca2f-c01cb2eff6b6"
      },
      "outputs": [
        {
          "data": {
            "text/plain": [
              "0.05893"
            ]
          },
          "execution_count": 113,
          "metadata": {},
          "output_type": "execute_result"
        }
      ],
      "source": [
        "op_at_3= round(result.apply(lambda row: precision_at_k(row['own_purchases'], row['actual'], 3), axis=1).mean(), 5)\n",
        "op_at_3"
      ]
    },
    {
      "cell_type": "code",
      "execution_count": null,
      "metadata": {
        "id": "KsQZiBc7La_Q"
      },
      "outputs": [],
      "source": [
        "prec_at_3 = [rr_at_3, pr_at_3, wrr_at_3, ii_at_3, cos_at_3, tfidf_at_3, op_at_3]"
      ]
    },
    {
      "cell_type": "code",
      "execution_count": null,
      "metadata": {
        "id": "pl3G9qOkLa_Q"
      },
      "outputs": [],
      "source": [
        "def recall_at_k(recommended_list, bought_list, k=5):\n",
        "    \n",
        "    bought_list = np.array(bought_list)\n",
        "    recommended_list = np.array(recommended_list)\n",
        "    recommended_list = recommended_list[:k]\n",
        "    flags = np.isin(recommended_list,bought_list)\n",
        "    \n",
        "    recall = flags.sum() / len(bought_list)\n",
        "    \n",
        "    return recall"
      ]
    },
    {
      "cell_type": "code",
      "execution_count": null,
      "metadata": {
        "id": "ih-QIa7xLa_R",
        "outputId": "9202bf6a-2ab9-4ce9-94cf-8e4c04782374"
      },
      "outputs": [
        {
          "data": {
            "text/plain": [
              "9e-05"
            ]
          },
          "execution_count": 116,
          "metadata": {},
          "output_type": "execute_result"
        }
      ],
      "source": [
        "rr_rec_at_5 = round(result.apply(lambda row: recall_at_k(row['random_recommendation'], row['actual']), axis=1).mean(), 5)\n",
        "rr_rec_at_5"
      ]
    },
    {
      "cell_type": "code",
      "execution_count": null,
      "metadata": {
        "id": "g6_hyfiuLa_S",
        "outputId": "02ebe944-458f-4238-9c95-efbf2e48195d"
      },
      "outputs": [
        {
          "data": {
            "text/plain": [
              "0.025"
            ]
          },
          "execution_count": 117,
          "metadata": {},
          "output_type": "execute_result"
        }
      ],
      "source": [
        "pr_rec_at_5 = round(result.apply(lambda row: recall_at_k(row['popular_recommendation'], row['actual']), axis=1).mean(), 5)\n",
        "pr_rec_at_5"
      ]
    },
    {
      "cell_type": "code",
      "execution_count": null,
      "metadata": {
        "id": "xTGkGEQtLa_S",
        "outputId": "35c8c1c7-ddef-47e6-fec9-06a292c0cd13"
      },
      "outputs": [
        {
          "data": {
            "text/plain": [
              "5e-05"
            ]
          },
          "execution_count": 118,
          "metadata": {},
          "output_type": "execute_result"
        }
      ],
      "source": [
        "wrr_rec_at_5 = round(result.apply(lambda row: recall_at_k(row['weighted_random_recommendation'], row['actual']), axis=1).mean(), 5)\n",
        "wrr_rec_at_5"
      ]
    },
    {
      "cell_type": "code",
      "execution_count": null,
      "metadata": {
        "id": "1FuFhVrcLa_T",
        "outputId": "878cbd31-008b-427d-a489-9b240a57a8a6"
      },
      "outputs": [
        {
          "data": {
            "text/plain": [
              "0.01622"
            ]
          },
          "execution_count": 119,
          "metadata": {},
          "output_type": "execute_result"
        }
      ],
      "source": [
        "ii_rec_at_5 = round(result.apply(lambda row: recall_at_k(row['itemitem'], row['actual']), axis=1).mean(), 5)\n",
        "ii_rec_at_5"
      ]
    },
    {
      "cell_type": "code",
      "execution_count": null,
      "metadata": {
        "id": "Khv7QAogLa_U",
        "outputId": "f874164c-561a-4109-e822-456abcc9a602"
      },
      "outputs": [
        {
          "data": {
            "text/plain": [
              "0.01403"
            ]
          },
          "execution_count": 120,
          "metadata": {},
          "output_type": "execute_result"
        }
      ],
      "source": [
        "cos_rec_at_5 = round(result.apply(lambda row: recall_at_k(row['cosine'], row['actual']), axis=1).mean(), 5)\n",
        "cos_rec_at_5"
      ]
    },
    {
      "cell_type": "code",
      "execution_count": null,
      "metadata": {
        "id": "_MBSJuPGLa_U",
        "outputId": "a0771629-bc5e-4e19-a7e8-0f94103cb36c"
      },
      "outputs": [
        {
          "data": {
            "text/plain": [
              "0.01403"
            ]
          },
          "execution_count": 121,
          "metadata": {},
          "output_type": "execute_result"
        }
      ],
      "source": [
        "tfidf_rec_at_5 = round(result.apply(lambda row: recall_at_k(row['tfidf'], row['actual']), axis=1).mean(), 5)\n",
        "tfidf_rec_at_5"
      ]
    },
    {
      "cell_type": "code",
      "execution_count": null,
      "metadata": {
        "id": "EhVGSKceLa_V",
        "outputId": "2a5eb4e5-41fd-493d-b030-eee187a99bc9"
      },
      "outputs": [
        {
          "data": {
            "text/plain": [
              "0.01403"
            ]
          },
          "execution_count": 122,
          "metadata": {},
          "output_type": "execute_result"
        }
      ],
      "source": [
        "op_rec_at_5 = round(result.apply(lambda row: recall_at_k(row['own_purchases'], row['actual']), axis=1).mean(), 5)\n",
        "op_rec_at_5"
      ]
    },
    {
      "cell_type": "code",
      "execution_count": null,
      "metadata": {
        "id": "Q3Z1477ZLa_V"
      },
      "outputs": [],
      "source": [
        "rec_at_5 = [rr_rec_at_5, pr_rec_at_5, wrr_rec_at_5, ii_rec_at_5, cos_rec_at_5, tfidf_rec_at_5, op_rec_at_5]"
      ]
    },
    {
      "cell_type": "markdown",
      "metadata": {
        "id": "3i-L8Va9La_W"
      },
      "source": [
        "### Результаты"
      ]
    },
    {
      "cell_type": "code",
      "execution_count": null,
      "metadata": {
        "id": "RL_Cx0e-La_W",
        "outputId": "46035ce3-5036-482f-a2fc-59c2c6111f68"
      },
      "outputs": [
        {
          "data": {
            "text/html": [
              "<div>\n",
              "<style scoped>\n",
              "    .dataframe tbody tr th:only-of-type {\n",
              "        vertical-align: middle;\n",
              "    }\n",
              "\n",
              "    .dataframe tbody tr th {\n",
              "        vertical-align: top;\n",
              "    }\n",
              "\n",
              "    .dataframe thead th {\n",
              "        text-align: right;\n",
              "    }\n",
              "</style>\n",
              "<table border=\"1\" class=\"dataframe\">\n",
              "  <thead>\n",
              "    <tr style=\"text-align: right;\">\n",
              "      <th></th>\n",
              "      <th>random_recommendation</th>\n",
              "      <th>popular_recommendation</th>\n",
              "      <th>weighted_random_recommendation</th>\n",
              "      <th>itemitem</th>\n",
              "      <th>cosine</th>\n",
              "      <th>tfidf</th>\n",
              "      <th>own_purchases</th>\n",
              "    </tr>\n",
              "  </thead>\n",
              "  <tbody>\n",
              "    <tr>\n",
              "      <th>precision@5</th>\n",
              "      <td>0.00088</td>\n",
              "      <td>0.15524</td>\n",
              "      <td>0.00069</td>\n",
              "      <td>0.14574</td>\n",
              "      <td>0.13546</td>\n",
              "      <td>0.13546</td>\n",
              "      <td>0.13546</td>\n",
              "    </tr>\n",
              "    <tr>\n",
              "      <th>precision@3</th>\n",
              "      <td>0.00082</td>\n",
              "      <td>0.13777</td>\n",
              "      <td>0.00082</td>\n",
              "      <td>0.11965</td>\n",
              "      <td>0.05893</td>\n",
              "      <td>0.05893</td>\n",
              "      <td>0.05893</td>\n",
              "    </tr>\n",
              "    <tr>\n",
              "      <th>recall@5</th>\n",
              "      <td>0.00009</td>\n",
              "      <td>0.02500</td>\n",
              "      <td>0.00005</td>\n",
              "      <td>0.01622</td>\n",
              "      <td>0.01403</td>\n",
              "      <td>0.01403</td>\n",
              "      <td>0.01403</td>\n",
              "    </tr>\n",
              "  </tbody>\n",
              "</table>\n",
              "</div>"
            ],
            "text/plain": [
              "             random_recommendation  popular_recommendation  \\\n",
              "precision@5                0.00088                 0.15524   \n",
              "precision@3                0.00082                 0.13777   \n",
              "recall@5                   0.00009                 0.02500   \n",
              "\n",
              "             weighted_random_recommendation  itemitem   cosine    tfidf  \\\n",
              "precision@5                         0.00069   0.14574  0.13546  0.13546   \n",
              "precision@3                         0.00082   0.11965  0.05893  0.05893   \n",
              "recall@5                            0.00005   0.01622  0.01403  0.01403   \n",
              "\n",
              "             own_purchases  \n",
              "precision@5        0.13546  \n",
              "precision@3        0.05893  \n",
              "recall@5           0.01403  "
            ]
          },
          "execution_count": 124,
          "metadata": {},
          "output_type": "execute_result"
        }
      ],
      "source": [
        "metrics = pd.DataFrame([prec_at_5, prec_at_3, rec_at_5], index = ['precision@5', 'precision@3', 'recall@5'], columns = ['random_recommendation', 'popular_recommendation', 'weighted_random_recommendation', 'itemitem', 'cosine', 'tfidf', 'own_purchases'])\n",
        "metrics"
      ]
    },
    {
      "cell_type": "markdown",
      "metadata": {
        "id": "XSFZ6BtwLa_W"
      },
      "source": [
        "Исходя из метрик:\n",
        "- Лучше всего из бейзлайнов показал себя алгоритм **popular_recommendation**, **random_recommendation**\n",
        "- Менее удовлетворительно **weighted_random_recommendation**. \n",
        "- Самый лучший из детерменированнх алгоритмов **item-item**."
      ]
    }
  ],
  "metadata": {
    "colab": {
      "provenance": []
    },
    "kernelspec": {
      "display_name": "Python 3",
      "language": "python",
      "name": "python3"
    },
    "language_info": {
      "codemirror_mode": {
        "name": "ipython",
        "version": 3
      },
      "file_extension": ".py",
      "mimetype": "text/x-python",
      "name": "python",
      "nbconvert_exporter": "python",
      "pygments_lexer": "ipython3",
      "version": "3.8.8"
    }
  },
  "nbformat": 4,
  "nbformat_minor": 0
}